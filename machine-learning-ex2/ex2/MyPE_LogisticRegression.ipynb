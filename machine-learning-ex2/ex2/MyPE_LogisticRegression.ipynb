{
 "cells": [
  {
   "cell_type": "markdown",
   "metadata": {},
   "source": [
    "# Programming Exercise 2:Logistic Regression \n",
    "\n",
    "$$Machine Learning$$\n",
    "\n",
    "## Introduction\n",
    "In this exercise, you will implement logistic regression and apply it to two different datasets. Before starting on the programming exercise, we strongly recommend watching the video lectures and completing the review questions for the associated topics.\n",
    "\n",
    "## 1.Logistic Regression\n",
    "\n",
    "In this part of the exercise, you will build a logistic regression model to predict whether a student gets admitted into a university.\n",
    "Suppose that you are the administrator of a university department and you want to determine each applicant's chance of admission based on their results on two exams. You have historical data from previous applicants that you can use as a training set for logistic regression. For each training example, you have the applicant's scores on two exams and the admissions decision.\n",
    "Your task is to build a classification model that estimates an applicant's probability of admission based the scores from those two exams.\n"
   ]
  },
  {
   "cell_type": "code",
   "execution_count": 193,
   "metadata": {
    "collapsed": true
   },
   "outputs": [],
   "source": [
    "import numpy as np\n",
    "import matplotlib.pyplot as plt\n",
    "from matplotlib import cm\n",
    "#这个是优化和拟合函数库\n",
    "#scipy.optimization子模块提供了函数最小值(标量或多维)、\n",
    "#曲线拟合和寻找等式的根的有用算法.\n",
    "from scipy.optimize import minimize\n",
    "\n",
    "%matplotlib inline"
   ]
  },
  {
   "cell_type": "markdown",
   "metadata": {},
   "source": [
    "## 1.1 Visualizing the data\n",
    "Before starting to implement any learning algorithm, it is always good to visualize the data if possible. In the first part, the code will load the data and display it on a 2-dimensional plot by calling the function plotData.\n",
    "You will now complete the code in plotData so that it displays a figure of the data, where the axes are the two exam scores, and the positive and negative examples are shown with different markers."
   ]
  },
  {
   "cell_type": "code",
   "execution_count": 194,
   "metadata": {},
   "outputs": [
    {
     "name": "stdout",
     "output_type": "stream",
     "text": [
      "First 10 examples from the dataset:\n",
      "X = [ 34.62365962  78.02469282], y = [ 0.]\n",
      "X = [ 30.28671077  43.89499752], y = [ 0.]\n",
      "X = [ 35.84740877  72.90219803], y = [ 0.]\n",
      "X = [ 60.18259939  86.3085521 ], y = [ 1.]\n",
      "X = [ 79.03273605  75.34437644], y = [ 1.]\n",
      "X = [ 45.08327748  56.31637178], y = [ 0.]\n",
      "X = [ 61.10666454  96.51142588], y = [ 1.]\n",
      "X = [ 75.02474557  46.55401354], y = [ 1.]\n",
      "X = [ 76.0987867   87.42056972], y = [ 1.]\n",
      "X = [ 84.43281996  43.53339331], y = [ 1.]\n"
     ]
    }
   ],
   "source": [
    "#进行算法前先可视化数据\n",
    "#load Data\n",
    "# -column 1:score of first exam\n",
    "# -column 2:score of second exam\n",
    "# -column 3:admission\n",
    "data=np.loadtxt('ex2data1.txt',delimiter=',')\n",
    "\n",
    "\n",
    "#Split data into X and y\n",
    "X,y=np.hsplit(data,np.array([2]))\n",
    "\"\"\"\n",
    "print(X.shape)\n",
    "print(y.shape)\n",
    "theta = theta.reshape((theta.shape[0],1))\n",
    "y = y.reshape((y.shape[0],1))\n",
    "print(theta)\n",
    "print(y)\n",
    "\"\"\"\n",
    "\n",
    "#Print out some data points\n",
    "print(\"First 10 examples from the dataset:\")\n",
    "for i in range(10):\n",
    "    print(\"X = \" + str(X[i,:]) + \", y = \" + str(y[i]))"
   ]
  },
  {
   "cell_type": "code",
   "execution_count": 195,
   "metadata": {
    "scrolled": true
   },
   "outputs": [
    {
     "data": {
      "text/plain": [
       "'\\n#Part 1:Plotting\\n#We start the exercise by first plotting the data to understand the \\n#the problem we are working with.\\nprint(\"Plotting data with + indicating (y=1) examples and o indicating (y=0) examples.\\n\")\\ny = y.ravel()\\nfig,ax = plt.subplots()\\ny_pos = y==1\\ny_neg = y==0\\nax.plot(X[y_pos,0],X[y_pos,1],\\'r+\\',label=\"Admitted\")\\nax.plot(X[y_neg,0],X[y_neg,1],\\'ko\\',label=\\'Not admitted\\')\\nax.set_xlabel(\"Exam 1 score\")\\nax.set_ylabel(\"Exam 2 score\")\\nax.legend(loc=\\'upper right\\')\\n'"
      ]
     },
     "execution_count": 195,
     "metadata": {},
     "output_type": "execute_result"
    }
   ],
   "source": [
    "#我用的这种方法，没有用scatter\n",
    "\"\"\"\n",
    "#Part 1:Plotting\n",
    "#We start the exercise by first plotting the data to understand the \n",
    "#the problem we are working with.\n",
    "print(\"Plotting data with + indicating (y=1) examples and o indicating (y=0) examples.\\n\")\n",
    "y = y.ravel()\n",
    "fig,ax = plt.subplots()\n",
    "y_pos = y==1\n",
    "y_neg = y==0\n",
    "ax.plot(X[y_pos,0],X[y_pos,1],'r+',label=\"Admitted\")\n",
    "ax.plot(X[y_neg,0],X[y_neg,1],'ko',label='Not admitted')\n",
    "ax.set_xlabel(\"Exam 1 score\")\n",
    "ax.set_ylabel(\"Exam 2 score\")\n",
    "ax.legend(loc='upper right')\n",
    "\"\"\""
   ]
  },
  {
   "cell_type": "code",
   "execution_count": 196,
   "metadata": {
    "collapsed": true
   },
   "outputs": [],
   "source": [
    "def plotData(X,y,x1label='Admitted',x2label='Not admitted'):\n",
    "    \"\"\"\n",
    "    'plotData' plots the data points X and y into a new figure.It will \n",
    "    plot the data points with + for the positive examples and o for the \n",
    "    negative examples. X is assumed to be a Mx2 matrix.\n",
    "    \"\"\"\n",
    "    #Get the indices of positive and negative examples\n",
    "    pos = np.squeeze(y == 1)#注意pos的输出形式\n",
    "    neg = np.squeeze(y == 0)\n",
    "    #这里用到了布尔索引\n",
    "    plt.scatter(X[pos][:,0],X[pos][:,1], c='k',marker='+',label=x1label)\n",
    "    plt.scatter(X[neg][:,0],X[neg][:,1], c='r',marker='o',label=x2label)\n",
    "    plt.title(\"Scatter plot of training data\")\n",
    "    plt.xlabel(\"Exam 1 score\")\n",
    "    plt.ylabel(\"Exam 2 score\")\n",
    "    plt.legend(loc='upper right')#这个可以调label的位置"
   ]
  },
  {
   "cell_type": "code",
   "execution_count": 197,
   "metadata": {
    "scrolled": true
   },
   "outputs": [
    {
     "data": {
      "image/png": "[encoded data removed]",
      "text/plain": [
       "<matplotlib.figure.Figure at 0x7fecb7fb16d8>"
      ]
     },
     "metadata": {},
     "output_type": "display_data"
    }
   ],
   "source": [
    "#Visualize the data\n",
    "plotData(X,y)\n",
    "plt.show()"
   ]
  },
  {
   "cell_type": "markdown",
   "metadata": {},
   "source": [
    "## 1.2 Implementation\n",
    "### 1.2.1 Warmup exercise:sigmoid function\n",
    "Before you start with the actual cost function, recall that the logistic regression hypothesis is defined as:\n",
    "$${h}_{\\theta}(x) = g({\\theta}^{T}x)$$\n",
    "\n",
    "where function g is the sigmoid function. The sigmoid function is defined as:\n",
    "$$g(z) = \\frac{1}{1+{e}^{-z}}$$\n",
    "\n",
    "Your first step is to implement `sigmoid` function so it can be called by the rest of your program. When you are finished, try testing a few values by calling `sigmoid(x)`. For large positive values of `x`, the sigmoid should be close to 1, while for large negative values, the sigmoid should be close to 0. Evaluating `sigmoid(0)` should give you exactly 0.5. Your code should also work with vectors and matrices. **For a matrix, your function should perform the sigmoid function on every element.**"
   ]
  },
  {
   "cell_type": "code",
   "execution_count": 198,
   "metadata": {
    "collapsed": true
   },
   "outputs": [],
   "source": [
    "def sigmoid(z):\n",
    "    \"\"\"\n",
    "    Instructions:Compute the sigmoid of each value of z (\n",
    "    z can be a matrix,vector or scalar).\n",
    "    Return sigmoid(x) = 1/(1+e^(-z))\n",
    "    \"\"\"\n",
    "    g = 1 / (1 + np.exp(-z))\n",
    "    return g"
   ]
  },
  {
   "cell_type": "code",
   "execution_count": 199,
   "metadata": {},
   "outputs": [
    {
     "name": "stdout",
     "output_type": "stream",
     "text": [
      "sigmoid([[-10,0],[0,10]]) = [[  4.53978687e-05   5.00000000e-01]\n",
      " [  5.00000000e-01   9.99954602e-01]]\n",
      "(2, 2)\n",
      "<class 'numpy.ndarray'>\n"
     ]
    }
   ],
   "source": [
    "#Test sigmoid\n",
    "z=np.array([[-10,0],[0,10]])\n",
    "g=sigmoid(z)\n",
    "print(\"sigmoid([[-10,0],[0,10]]) = \" + str(g))\n",
    "print(g.shape)\n",
    "print(type(g))"
   ]
  },
  {
   "cell_type": "markdown",
   "metadata": {},
   "source": [
    "### 1.2.2 Cost function and gradient\n",
    "Now you will implement the cost function and gradient for logistic regression.Complete the code in costFunction.m to return the cost and gradient.Recall that the cost function in logistic regression is\n",
    "$$J(\\theta) = -\\frac{1}{m}\\sum_{i=1}^{m}[{y}^{(i)}\\log({h}_{\\theta}({x}^{(i)}))+(1-{y}^{(i)})\\log(1-{h}_{\\theta}({x}^{(i)}))]$$\n",
    "and the gradient of the cost is a vector of the same length as $\\theta$ where the ${j}^{th}$ element(for j=0,1,...,n) is defined as follows:\n",
    "$$\\frac{\\partial J(\\theta)}{\\partial {\\theta}_{j}} = \\frac{1}{m}\\sum_{i=1}^{m}({h}_{\\theta}({x}^{(i)})-{y}^{(i)}){{x}_{j}}^{(i)}$$\n",
    "\n",
    "Note that while this gradient looks identical to the linear regression gradient,the formula is actually different because linear and logistic regression have different definitions of ${h}_{\\theta}(x)$.\n",
    "\n",
    "Once you have done,the code will call your costFunction using the initial parameters of $\\theta$.\n",
    "You should see that the cost is about 0.693."
   ]
  },
  {
   "cell_type": "code",
   "execution_count": 200,
   "metadata": {
    "collapsed": true
   },
   "outputs": [],
   "source": [
    "def costFunction(theta,X,y):\n",
    "    \"\"\"\n",
    "    'J,grad = costFunction(X,y,theta)' computes the cost of using theta\n",
    "    as the parameters for logistic regression and the gradient of the\n",
    "    cost w.r.t to the parameters.\n",
    "    \"\"\"\n",
    "    #Arguments theta and y may be rank 1 array\n",
    "    theta = theta.reshape((theta.shape[0],1))\n",
    "    y = y.reshape((y.shape[0],1))\n",
    "    \n",
    "    #Initialize the number of training examples\n",
    "    m = X.shape[0]\n",
    "    \n",
    "    #Compute the cost J\n",
    "    J=-1*(np.dot(y.T,np.log(sigmoid(np.dot(X,theta))))\\\n",
    "          +np.dot((1-y).T,np.log(1-sigmoid(np.dot(X,theta)))))/m\n",
    "    \n",
    "    #Compute the gradients\n",
    "    grads = np.dot(X.T,sigmoid(np.dot(X,theta))-y) / m\n",
    "    #Return J and grads (grads should be a rank 1 array)\n",
    "    \n",
    "    return J, grads.ravel()\n"
   ]
  },
  {
   "cell_type": "code",
   "execution_count": 201,
   "metadata": {},
   "outputs": [
    {
     "name": "stdout",
     "output_type": "stream",
     "text": [
      "The number of training examples: 100\n",
      "The number of features: 2\n",
      "Cost at initial theta (zeros): \n",
      "[[ 0.69314718]]\n",
      "Expected cost (approx): 0.693\n",
      "Gradeint at initial theta (zeros):\n",
      "[ -0.1        -12.00921659 -11.26284221]\n",
      "Expected gradients (approx):\n",
      "[[ -0.1   ]\n",
      " [-12.0092]\n",
      " [-11.2628]]\n",
      "Cost at test theta [[-24] [0.2] [0.2]]:\n",
      "[[ 0.21833019]]\n",
      "Expected cost (approx): 0.218\n",
      "Gradenint at test theta [[-24] [0.2] [0.2]]:\n",
      "[ 0.04290299  2.56623412  2.64679737]\n",
      "Expected gradients (approx):\n",
      "[[ 0.043]\n",
      " [ 2.566]\n",
      " [ 2.674]]\n"
     ]
    }
   ],
   "source": [
    "#Part 2 :Compute Cost and Gradient\n",
    "#Get the number of examples (m) and the number of features (n)\n",
    "m, n=X.shape\n",
    "print(\"The number of training examples: \" + str(m))\n",
    "print(\"The number of features: \" + str(n))\n",
    "\n",
    "#注意这里对 X 和　theta　的处理，这里与\n",
    "#Add intercept term to X\n",
    "X = np.hstack((np.ones((m,1)),X))\n",
    "\n",
    "#Initialize fitting parameters\n",
    "initial_theta = np.zeros((n+1,1))\n",
    "\n",
    "#Compute and display initial cost and gradient\n",
    "cost, grad = costFunction(initial_theta, X, y)\n",
    "\n",
    "print(\"Cost at initial theta (zeros): \")\n",
    "print(cost)\n",
    "print(\"Expected cost (approx): 0.693\")\n",
    "print(\"Gradeint at initial theta (zeros):\")\n",
    "print(grad)\n",
    "print(\"Expected gradients (approx):\")\n",
    "print(str(np.array([[-0.1000],[-12.0092],[-11.2628]])))\n",
    "\n",
    "#compute and display cost and gradient with non-zero theta\n",
    "test_theta = np.array([[-24],[0.2],[0.2]])\n",
    "cost,grad = costFunction(test_theta,X,y)\n",
    "\n",
    "print(\"Cost at test theta [[-24] [0.2] [0.2]]:\")\n",
    "print(cost)\n",
    "print(\"Expected cost (approx): 0.218\")\n",
    "print(\"Gradenint at test theta [[-24] [0.2] [0.2]]:\")\n",
    "print(grad)\n",
    "print(\"Expected gradients (approx):\")\n",
    "print(str(np.array([[0.043],[2.566],[2.674]])))"
   ]
  },
  {
   "cell_type": "markdown",
   "metadata": {},
   "source": [
    "### 1.2.3 Learning parameters using optimization functions\n",
    "In the previous assignment, you found the optimal parameters of a linear regression model by implementing gradient descent. You wrote a cost function and calculated its gradient, then took a gradient descent step accordingly. This time, instead of taking gradient descent steps, you will use scipy built-in function called `optimize.minimize` (corresponding to  `fminunc` in MATLAB/Octave).\n",
    "\n",
    "`optimize.minimize` is an optimization solver that can find the minimum of your cost function. For logistic regression, you want to optimize the cost function $J(\\theta)$ with parameters $\\theta$.\n",
    "\n",
    "Concretely, you are going to use `optimize.minimize` to find the best parameters $\\theta$ for the logistic regression cost function, given a fixed dataset (of $X$ and $y$ values). You will pass to `minimize` the following inputs:\n",
    "- **x0:** The initial values of the parameters we are trying to optimize.\n",
    "- **fun:** Objective function (cost function), when given the training set and a particular $\\theta$, computes the logistic regression cost and gradient with respect to $\\theta$ for the dataset $(X, y)$. \n",
    "- **args:** tuple, optional. Extra arguments passed to the objective function and its derivatives (Jacobian, Hessian).\n",
    "- **jac:** bool or callable, optional. Jacobian (gradient) of objective function. Only for CG, BFGS, Newton-CG, L-BFGS-B, TNC, SLSQP, dogleg, trust-ncg. If *jac* is a `Boolean` and is `True`, *fun* is assumed to return the gradient along with the objective function. If `False`, the gradient will be estimated numerically. *jac* can also be a callable returning the gradient of the objective. In this case, it must accept the same arguments as *fun*.\n",
    "\n",
    "And `minimize` will return the optimal parameters of $\\theta$, with a cost about 0.203.\n",
    "\n",
    "This final $\\theta$ value will then be used to plot the decision boundary on the training data."
   ]
  },
  {
   "cell_type": "code",
   "execution_count": 202,
   "metadata": {},
   "outputs": [
    {
     "name": "stdout",
     "output_type": "stream",
     "text": [
      "Cost at theta found by minimize: 0.20349770158944375\n",
      "Expected cost (approx): 0.203\n",
      "theta: \n",
      "[[-25.16133284]\n",
      " [  0.2062317 ]\n",
      " [  0.2014716 ]]\n",
      "Expected theta (approx): \n",
      "[[-25.161]\n",
      " [  0.206]\n",
      " [  0.201]]\n"
     ]
    },
    {
     "name": "stderr",
     "output_type": "stream",
     "text": [
      "/home/gzm/anaconda3/lib/python3.6/site-packages/ipykernel_launcher.py:15: RuntimeWarning: divide by zero encountered in log\n",
      "  from ipykernel import kernelapp as app\n"
     ]
    }
   ],
   "source": [
    "# Optimizing using minimize\n",
    "# Note: 'fminunc' in MATLAB/octave uses Quasi-Newton method by default,\n",
    "#so I use *BFGS* (Quasi-Newton's implementation) here.\n",
    "#https://en.wikipedia.org/wiki/Quasi-Newton_method\n",
    "optimizeResult = minimize(fun=costFunction,x0=initial_theta.ravel(),\\\n",
    "                         args=(X,y.ravel()),method='BFGS',\\\n",
    "                         jac=True,options={'maxiter':400})\n",
    "#print(optimizeResult)\n",
    "\n",
    "theta = optimizeResult.x\n",
    "#print(theta)\n",
    "theta = theta.reshape((theta.shape[0],1))\n",
    "#print(theta)\n",
    "cost = optimizeResult.fun\n",
    "\n",
    "#print theta to screen\n",
    "print(\"Cost at theta found by minimize: \" + str(cost))\n",
    "print(\"Expected cost (approx): 0.203\")\n",
    "print(\"theta: \")\n",
    "print(theta)\n",
    "print(\"Expected theta (approx): \")\n",
    "print(np.array([[-25.161],[0.206],[0.201]]))"
   ]
  },
  {
   "cell_type": "markdown",
   "metadata": {},
   "source": [
    "This final θ value will then be used to plot the decision boundary on the training data, resulting in a figure similar to Figure 2. We also encourage you to look at the code in plotDecisionBoundary.m to see how to plot such a boundary using the θ values."
   ]
  },
  {
   "cell_type": "code",
   "execution_count": 203,
   "metadata": {},
   "outputs": [
    {
     "data": {
      "text/plain": [
       "\"\\n#目的就是为了有两个特征经过组合得到多个特征\\ndef mapFeature(x1,x2):\\n    '''\\n    mapfeature feature mapping function to polynomial feature\\n    mapFeature(x1,x2) maps the two input features\\n    to quadratic features used in the regularization exercise.\\n    Returns a new feature array with more features,comprising of \\n    x1,x2,x1.^2,x2.^2,x1*x2,x1*x2.^2,etc..\\n    \\n    Inputs x1,x2 must be the same size\\n    '''\\n    degree = 6\\n    out = np.ones((x1.shape[0],1))\\n    for i in range(1,degree+1):\\n        for j in range(0,i+1):\\n            out = np.hstack((result,np.power(x1,i-j)*np.power(x2,j)))\\n    return out\\n\""
      ]
     },
     "execution_count": 203,
     "metadata": {},
     "output_type": "execute_result"
    }
   ],
   "source": [
    "\"\"\"\n",
    "#目的就是为了有两个特征经过组合得到多个特征\n",
    "def mapFeature(x1,x2):\n",
    "    '''\n",
    "    mapfeature feature mapping function to polynomial feature\n",
    "    mapFeature(x1,x2) maps the two input features\n",
    "    to quadratic features used in the regularization exercise.\n",
    "    Returns a new feature array with more features,comprising of \n",
    "    x1,x2,x1.^2,x2.^2,x1*x2,x1*x2.^2,etc..\n",
    "    \n",
    "    Inputs x1,x2 must be the same size\n",
    "    '''\n",
    "    degree = 6\n",
    "    out = np.ones((x1.shape[0],1))\n",
    "    for i in range(1,degree+1):\n",
    "        for j in range(0,i+1):\n",
    "            out = np.hstack((result,np.power(x1,i-j)*np.power(x2,j)))\n",
    "    return out\n",
    "\"\"\""
   ]
  },
  {
   "cell_type": "code",
   "execution_count": 204,
   "metadata": {
    "collapsed": true
   },
   "outputs": [],
   "source": [
    "def plotDecisionBoundary(theta,X,y,lamda=1):\n",
    "    \"\"\"\n",
    "    Plots the data points X and y into a new figure with the decision\n",
    "    boundary defined by theta.\n",
    "    It will plot the data points with + for the positive examples and o\n",
    "    for the negative examples.X is assumed to be a either\n",
    "    1) Mx3 matrix,where the first column is an all-ones column for the \n",
    "    intercept\n",
    "    2) MxN,N>3 matrix, where the first column is all-ones\n",
    "    \"\"\"\n",
    "    #X_orig ,y= np.hsplit(data,np.array([2]))\n",
    "    #还有另一种表示方法\n",
    "    X_orig = np.hsplit(X, np.array([1]))[1]\n",
    "    #由于lt.legend()这里np.hsplit返回的一个元组，所以可以取\n",
    "    #注意这里的X.shape[1]指的是有几列，也就是有有几个特征\n",
    "    if X.shape[1] <= 3:\n",
    "        # Plot the training data\n",
    "        plotData(X_orig,y)\n",
    "        #Plot a straight line\n",
    "        #Only need 2 points to define a line,so choose two endpoints\n",
    "        x1_min = X_orig.min(axis=0)[0]\n",
    "        x1_max = X_orig.max(axis=0)[0]\n",
    "        plot_x = np.arange(x1_min,x1_max)\n",
    "        plot_y = (- theta[0] - theta[1]*plot_x) / theta[2]\n",
    "        #Plot,and adjust axes for better viewing\n",
    "        plt.plot(plot_x,plot_y,'k-',label='linearDecisionBoundary')\n",
    "        plt.legend(loc='upper right') #显示标签\n",
    "        plt.axis([30,100,30,100])\n",
    "    else:\n",
    "        #Here is the grid range\n",
    "        figContour = plt.figure()\n",
    "        plotData(X_orig,y,\"y=1\",\"y=0\")\n",
    "        #plot a contour\n",
    "        u = np.linspace(-1, 1.5, 50)\n",
    "        v = np.linspace(-1, 1.5, 50)\n",
    "        z = np.zeros((u.shape[0],v.shape[0]))\n",
    "        #　Evaluate z = theta*x over the grid\n",
    "        for i in range(1,u.shape[0]):\n",
    "            for j in range(1,v.shape[0]):\n",
    "                uArray = np.array([[u[i]]])\n",
    "                vArray = np.array([[v[j]]])\n",
    "                z[i][j] = np.dot(mapFeature(uArray,vArray), theta)\n",
    "        \n",
    "        # Make the meshgrid\n",
    "        u, v = np.meshgrid(u,v)\n",
    "        \n",
    "        # important to transpose z before calling contour\n",
    "        z = z.T\n",
    "        \n",
    "        # Contour plot\n",
    "        plt.contour(u, v, z,np.array([0]))\n",
    "        plt.xlabel(\"Microchip Test 1\")\n",
    "        plt.ylabel(\"Microchip Test 2\")\n",
    "        plt.title(r\"Training data with decision boundary ($\\lambda$ = \" \\\n",
    "                  + str(lamda) + \")\")\n",
    "        "
   ]
  },
  {
   "cell_type": "code",
   "execution_count": 205,
   "metadata": {
    "scrolled": true
   },
   "outputs": [
    {
     "data": {
      "image/png": "[encoded data removed]",
      "text/plain": [
       "<matplotlib.figure.Figure at 0x7fecb80fe5f8>"
      ]
     },
     "metadata": {},
     "output_type": "display_data"
    }
   ],
   "source": [
    "#Plot the decision boundary\n",
    "plotDecisionBoundary(theta,X,y)\n",
    "plt.title(\"Training data with decision boundary\")\n",
    "plt.show()\n",
    "#print(X)"
   ]
  },
  {
   "cell_type": "markdown",
   "metadata": {},
   "source": [
    "### 1.2.4 Evaluating logistic regression\n",
    "After learning the parameters,you can use the model to predict whether a particular student will be admitted.For a student with an Exam 1 score of 45 and an Exam 2 score of 85,you should expect to see an admission probability of 0.776.\n",
    "Another way to evaluate the quality of the parameters we have found\n",
    "is to see how well the learned model predicts on our training set. In this part, your task is to complete the code in predict.m. The predict function will produce “1” or “0” predictions given a dataset and a learned parameter vector θ.\n",
    "After you have completed the code in predict.m, the ex2.m script will\n",
    "proceed to report the training accuracy of your classifier by computing the percentage of examples it got correct."
   ]
  },
  {
   "cell_type": "code",
   "execution_count": 206,
   "metadata": {},
   "outputs": [
    {
     "name": "stdout",
     "output_type": "stream",
     "text": [
      "For a student with scores 45 and 85,we predict an admission probability of[[ 0.77629072]]\n",
      "Expected value: 0.775 +/- 0.002\n",
      "[[  1.          34.62365962  78.02469282]]\n",
      "[[  1.          30.28671077  43.89499752]]\n",
      "[[  1.          35.84740877  72.90219803]]\n",
      "[[  1.          60.18259939  86.3085521 ]]\n",
      "[[-25.16133284]\n",
      " [  0.2062317 ]\n",
      " [  0.2014716 ]]\n"
     ]
    }
   ],
   "source": [
    "#Part 4: Predict and Accuracies\n",
    "#In this part,you will use the logistic regression model to predict the \n",
    "#probability that a student with score 45 on exam 1 and score 85 on exam\n",
    "# 2 will be admitted.\n",
    "prob = sigmoid(np.dot(np.array([[1,45,85]]),theta))\n",
    "print(\"For a student with scores 45 and 85,we predict an admission \\\n",
    "probability of\" + str(prob))\n",
    "print(\"Expected value: 0.775 +/- 0.002\")\n",
    "\n",
    "for i in range(4):\n",
    "    print(X[i,:].reshape((1,3)))\n",
    "print(theta)\n"
   ]
  },
  {
   "cell_type": "code",
   "execution_count": 207,
   "metadata": {},
   "outputs": [
    {
     "data": {
      "text/plain": [
       "'\\n# Predict\\ndef predict(theta, X):\\n    \\'\\'\\'\\n    Predict whether the label is 0 or 1 using learned logistic \\n    regression parameters theta.\\n    p = predict(theta,X) computers the predictions for X using a \\n    threshold at 0.5 (i.e.,if sigmoid(np.dot(X,theta))>=0.5,predict 1)\\n    \\'\\'\\'\\n    m = X.shape[0]\\n    #You need to return the following variables correctly\\n    p = np.zeros((m,1))\\n    #complete the following code to make predictions using your learned\\n    #logistic regression parameters.You should set p to a vector of 0 and 1\\n    for i in range(m):\\n        h = 1 / (1 + np.exp(-np.dot(X[i,:].reshape((1,3)),theta)))\\n        if h < 0.5:\\n            p[i][0] = 0\\n        else:\\n            p[i][0] = 1\\n    \\n    print(\"p.shape = \" + str(p.shape))\\n    return p\\n'"
      ]
     },
     "execution_count": 207,
     "metadata": {},
     "output_type": "execute_result"
    }
   ],
   "source": [
    "\"\"\"\n",
    "# Predict\n",
    "def predict(theta, X):\n",
    "    '''\n",
    "    Predict whether the label is 0 or 1 using learned logistic \n",
    "    regression parameters theta.\n",
    "    p = predict(theta,X) computers the predictions for X using a \n",
    "    threshold at 0.5 (i.e.,if sigmoid(np.dot(X,theta))>=0.5,predict 1)\n",
    "    '''\n",
    "    m = X.shape[0]\n",
    "    #You need to return the following variables correctly\n",
    "    p = np.zeros((m,1))\n",
    "    #complete the following code to make predictions using your learned\n",
    "    #logistic regression parameters.You should set p to a vector of 0 and 1\n",
    "    for i in range(m):\n",
    "        h = 1 / (1 + np.exp(-np.dot(X[i,:].reshape((1,3)),theta)))\n",
    "        if h < 0.5:\n",
    "            p[i][0] = 0\n",
    "        else:\n",
    "            p[i][0] = 1\n",
    "    \n",
    "    print(\"p.shape = \" + str(p.shape))\n",
    "    return p\n",
    "\"\"\""
   ]
  },
  {
   "cell_type": "code",
   "execution_count": 208,
   "metadata": {},
   "outputs": [
    {
     "data": {
      "text/plain": [
       "'\\n(3, 1) (100, 3)\\np.shape = (100, 1)\\n0.89\\n'"
      ]
     },
     "execution_count": 208,
     "metadata": {},
     "output_type": "execute_result"
    }
   ],
   "source": [
    "\"\"\"\n",
    "#Computer accuracy on our training set\n",
    "print(theta.shape, X.shape)\n",
    "p = predict(theta,X)\n",
    "sum = 0\n",
    "for i in range(m):\n",
    "    if p[i][0] == y[i][0]:\n",
    "        sum += 1\n",
    "print(sum/m)\n",
    "#print(p)\n",
    "\"\"\"\n",
    "\"\"\"\n",
    "(3, 1) (100, 3)\n",
    "p.shape = (100, 1)\n",
    "0.89\n",
    "\"\"\""
   ]
  },
  {
   "cell_type": "markdown",
   "metadata": {},
   "source": [
    " - **在predict函数这里，你用的是for循环，如果数据多的时候，for循环效果不好。要学会用矩阵来整体处理。**"
   ]
  },
  {
   "cell_type": "code",
   "execution_count": 209,
   "metadata": {
    "collapsed": true
   },
   "outputs": [],
   "source": [
    "#重新定义一下这个Predict函数\n",
    "def predict(theta,X):\n",
    "    \"\"\"\n",
    "    Predict whether the label is 0 or 1 using learning logistic regression\n",
    "    parameters theta.\n",
    "    p = predict(theta,X) computes the predictions for X using a threshold\n",
    "    at 0.5 (i.e.,if sigmoid(theta'*x) >= 0.5,predict 1)\n",
    "    \"\"\"\n",
    "    #Number of training examples\n",
    "    m = X.shape[0]\n",
    "    #You need to return the following variables correctly\n",
    "    p = np.zeros((m,1))\n",
    "    #注意一定要分清谁的转置乘以谁，或者有没有转置\n",
    "    h = sigmoid(np.dot(X,theta))\n",
    "    index = h >= 0.5\n",
    "    p[index] = 1\n",
    "    #炸，为什么老想不到简单的表示方法\n",
    "    #p[h >= 0.5] = 1\n",
    "    return p"
   ]
  },
  {
   "cell_type": "code",
   "execution_count": 210,
   "metadata": {},
   "outputs": [
    {
     "name": "stdout",
     "output_type": "stream",
     "text": [
      "Train Accuracy:0.89\n",
      "Expected accuracy (approx): 0.89\n"
     ]
    }
   ],
   "source": [
    "#Compute accuracy on our training set\n",
    "p = predict(theta,X)\n",
    "accuracy = np.mean(p==y)\n",
    "print('Train Accuracy:'+str(accuracy))\n",
    "print(\"Expected accuracy (approx): 0.89\")"
   ]
  },
  {
   "cell_type": "markdown",
   "metadata": {},
   "source": [
    "## 2 Regularized logistic regression\n",
    "In this part of the exercise, you will implement regularized logistic regression to predict whether microchips from a fabrication plant passes quality assurance (QA). During QA, each microchip goes through various tests to ensure it is functioning correctly.Suppose you are the product manager of the factory and you have the test results for some microchips on two different tests. From these two tests,you would like to determine whether the microchips should be accepted or rejected. To help you make the decision, you have a dataset of test results on past microchips, from which you can build a logistic regression model.\n",
    "You will use another script, ex2 reg.m to complete this portion of the\n",
    "exercise."
   ]
  },
  {
   "cell_type": "markdown",
   "metadata": {},
   "source": [
    "## 2.1 Visualizing the data\n",
    "Similar to the previous parts of this exercise,plotData is used to generate a figure like Figure3,where the axes are the two test scores,and the positive (y=1,accepted) and negative (y=0,rejected) examples are shown with different markers.\n",
    "Figure 3 shows that our dataset cannot be separated into positive and\n",
    "negative examples by a straight-line through the plot. Therefore, a straightforward application of logistic regression will not perform well on this dataset since logistic regression will only be able to find a linear decision boundary.\n"
   ]
  },
  {
   "cell_type": "code",
   "execution_count": 211,
   "metadata": {
    "collapsed": true
   },
   "outputs": [],
   "source": [
    "#Machine Learning Online Class - Exercise 2:Logistic Regression\n",
    "\"\"\"\n",
    "Instructions \n",
    "This file contains code that helps you get started on the second part\n",
    " of the exercise which covers regularization with logistic regression.\n",
    "You will need to complete the following functions in this exercise:\n",
    "       sigmoid.m\n",
    "       costFuntion.m\n",
    "       predict.m\n",
    "       costFunctionReg.m\n",
    "For this exercise,you will not need to change any code in this file,\n",
    "or any other files other than those mentioned above.\n",
    "\"\"\"\n",
    "# Load Data\n",
    "#The first two columns contains the X values and the third column contains\n",
    "#the label(y).\n",
    "# - column 1:score of microchip test 1\n",
    "# - column 2:score of microchip test 2\n",
    "# - column 3:accepted (1) or not (0)\n",
    "data_reg = np.loadtxt('ex2data2.txt',delimiter=',')\n",
    "\n",
    "X_reg , y_reg = np.hsplit(data_reg,np.array([2]))\n",
    "#print(X_reg)\n",
    "#print(y)\n",
    "#print(X_reg.shape)"
   ]
  },
  {
   "cell_type": "code",
   "execution_count": 212,
   "metadata": {
    "collapsed": true
   },
   "outputs": [],
   "source": [
    "#plot Data\n",
    "def plotData2(X,y,x1label='y=1',x2label='y=0'):\n",
    "    pos = np.squeeze(y == 1)\n",
    "    neg = np.squeeze(y == 0)\n",
    "    plt.scatter(X[pos][:,0],X[pos][:,1],c='k',marker='+',label=x1label)\n",
    "    plt.scatter(X[neg][:,0],X[neg][:,1],c='r',marker='o',label=x2label)\n",
    "    plt.title(\"Figure 3:Plot of training data\")\n",
    "    plt.xlabel('Microchip Test1')\n",
    "    plt.ylabel('Microchip Test2')\n",
    "    plt.legend()\n",
    "    \n",
    "    #注意这两行可以设置横轴和纵轴的范围\n",
    "    plt.xlim(-1,1.5,0.5)\n",
    "    plt.ylim(-0.8,1.2,0.2)"
   ]
  },
  {
   "cell_type": "code",
   "execution_count": 213,
   "metadata": {},
   "outputs": [
    {
     "data": {
      "image/png": "[encoded data removed]",
      "text/plain": [
       "<matplotlib.figure.Figure at 0x7fecb807ff98>"
      ]
     },
     "metadata": {},
     "output_type": "display_data"
    }
   ],
   "source": [
    "plotData2(X_reg,y_reg)"
   ]
  },
  {
   "cell_type": "markdown",
   "metadata": {},
   "source": [
    "## 2.2 Feature mapping\n",
    "One way to fit the data better is to create more features from each datapoint. In the provided function mapFeature.m, we will map the features intoall polynomial terms of x 1 and x 2 up to the sixth power.\n",
    "$$mapFeature(x) = \\left[\\begin{array}{c} 1 \\\\ {x}_{1} \\\\ {x}_{2} \\\\ {{x}_{1}}^{2} \\\\ {x}_{1}{x}_{2} \\\\ {{x}_{2}}^{2} \\\\ {{x}_{1}}^{3} \\\\ \\vdots \\\\ {x}_{1}{{x}_{2}}^{5} \\\\ {{x}_{2}}^{6} \\end{array}\\right]$$\n",
    "\n",
    "As a result of this mapping, our vector of two features (the scores on\n",
    "two QA tests) has been transformed into a 28-dimensional vector. A logistic regression classifier trained on this higher-dimension feature vector will have a more complex decision boundary and will appear nonlinear when drawn in our 2-dimensional plot.\n",
    "While the feature mapping allows us to build a more expressive classifier,it also more susceptible to overfitting. In the next parts of the exercise, you will implement regularized logistic regression to fit the data and also see for yourself how regularization can help combat the overfitting problem."
   ]
  },
  {
   "cell_type": "markdown",
   "metadata": {},
   "source": [
    "#  Part1:Regularized Logistic Regression\n",
    "In this part, you are given a dataset with data points that are notlinearly separable. However, you would still like to use logistic regression to classify the data points.\n",
    "To do so, you introduce more features to use -- in particular, you addpolynomial features to our data matrix (similar to polynomial regression).\n",
    "Add Polynomial Features\n",
    "Note that mapFeature also adds a column of ones for us, so the intercept term is handled"
   ]
  },
  {
   "cell_type": "code",
   "execution_count": 214,
   "metadata": {
    "collapsed": true
   },
   "outputs": [],
   "source": [
    "#Feature Mapping\n",
    "#目的就是经过两个特征组合变成多个特征\n",
    "def mapFeature(X1,X2):\n",
    "    \"\"\"\n",
    "    MAPFEATURE Feature mapping function to polynomial features\n",
    "    mapFeature(X1,X2) maps the two input features to quadratic features\n",
    "    used in the regularization exercise.\n",
    "    Returns a new feature array with more features,comprising of \n",
    "    X1,X2,X1.^2,X2.^2,X1*X2,X1*X2.^2,etc....\n",
    "    Inputs X1,X2 must be the same size\n",
    "    \"\"\"\n",
    "    degree = 6\n",
    "    out = np.ones((X1.shape[0],1))\n",
    "    for i in range(1,degree + 1):\n",
    "        for j in range(i + 1):\n",
    "            out = np.hstack((out, np.power(X1,(i-j)) * np.power(X2,j)))\n",
    "    return out"
   ]
  },
  {
   "cell_type": "code",
   "execution_count": 215,
   "metadata": {
    "collapsed": true
   },
   "outputs": [],
   "source": [
    "#把X的两列分成X1,X2，并且它们都是列向量,然后再让它们组合\n",
    "X_reg = mapFeature(X_reg[:,[0]],X_reg[:,[1]])\n",
    "#print(X_reg)\n",
    "#print(X_reg.shape)"
   ]
  },
  {
   "cell_type": "markdown",
   "metadata": {},
   "source": [
    "## 2.3 Cost function and gradient\n",
    "Now you will implement code to compute the cost function and gradient for regularized logistic regression. Complete the code in costFunctionReg.m to return the cost and gradient.\n",
    "Recall that the regularized cost function in logistic regression is\n",
    "$$J(\\theta)=\\frac{1}{m}\\sum_{i=1}^{m}[-{y}^{(i)}\\log({h}_{\\theta}({x}^{(i)}))-(1-{y}^{(i)})\\log(1-{h}_{\\theta}({x}^{(i)}))]+\\frac{\\lambda}{2m}\\sum_{j=1}^{n}{{\\theta}_{j}}^{2}$$\n",
    "Note that you should not regularize the parameter ${\\theta}_{0}$。\n",
    "The gradient of the cost function is a vector where the ${j}^{th}$ element is defined as follows:\n",
    "$$\\frac{\\partial j(\\theta)}{\\partial {\\theta}_{0}} = \\frac{1}{m}\\sum_{i=1}^{m}({h}_{\\theta}({x}^{(i)})-{y}^{(i)}){{x}_{j}}^{(i)} \\qquad \\text{for }  j = 0 $$ \n",
    "$$\\frac{\\partial j(\\theta)}{\\partial {\\theta}_{0}} = \\left(\\frac{1}{m}\\sum_{i=1}^{m}({h}_{\\theta}({x}^{(i)})-{y}^{(i)}){{x}_{j}}^{(i)}\\right) + \\frac{\\lambda}{m}{\\theta}_{j} \\qquad \\text{for }  j \\geq 1$$\n",
    "Once you are done, the script will call your costFunctionReg function using the initial value of $\\theta$ (initialized to all zeros). You should see that the cost is about 0.693."
   ]
  },
  {
   "cell_type": "code",
   "execution_count": 216,
   "metadata": {},
   "outputs": [],
   "source": [
    "def costFunctionReg(theta, X, y, lamda):\n",
    "    \"\"\"\n",
    "    COSTFUNCTIONREG Computer cost and gradient for logistic regression \n",
    "    with regularization theta as the parameter for regularized logistic\n",
    "    regression and the gradient of the cost w.r.t. to the parameters.\n",
    "    \"\"\"\n",
    "    #Initialize some useful values\n",
    "    #Arguments theta and y may be rank 1 array\n",
    "    #这里其实不用加，因为theta和y都是(m,1)array\n",
    "    theta = theta.reshape((theta.shape[0],1))\n",
    "    y = y.reshape((y.shape[0],1))\n",
    "    m = X.shape[0] #number of training examples\n",
    "    #You need to return the following variables correctly\n",
    "    J = 0\n",
    "    grad = np.zeros((theta.shape[0]))\n",
    "    \"\"\"\n",
    "    Instructions:Compute the cost of a particular choice of theta.\n",
    "    You should set J to the cost.\n",
    "    Compute the partial derivatives and set grad to the partial \n",
    "    derivatives of the cost w.r.t. each parameter in theta\n",
    "    \"\"\"\n",
    "    J=-1.0*(np.dot(y.T,np.log(sigmoid(np.dot(X,theta))))\\\n",
    "          +np.dot((1-y).T,np.log(1-sigmoid(np.dot(X,theta)))))/m\\\n",
    "            + lamda*np.sum(np.power(theta,2))/(2*m)\n",
    "    #后面调用minimize函数，需要行向量，一个列表，所以变一下\n",
    "    J = np.squeeze(J)\n",
    "    \n",
    "    #Compute the gradients\n",
    "    grads = np.dot(X.T,sigmoid(np.dot(X,theta))-y) / m + lamda*theta/m\n",
    "    grads[0] = grads[0] - lamda*theta[0] / m\n",
    "    #Return J and grads(注意这里要把grads变为一个列表，由于后面的minimize函数需要) \n",
    "    return J, grads.ravel()"
   ]
  },
  {
   "cell_type": "code",
   "execution_count": 217,
   "metadata": {},
   "outputs": [
    {
     "name": "stdout",
     "output_type": "stream",
     "text": [
      "The number of training examples: 118\n",
      "The number of features: 28\n",
      "Cost at initial theta (zeros): 0.6931471805599453\n",
      "Expected cost (approx): 0.693\n",
      "Gradient at initial theta (zeros) - first five values only:\n",
      "[[  8.47457627e-03]\n",
      " [  1.87880932e-02]\n",
      " [  7.77711864e-05]\n",
      " [  5.03446395e-02]\n",
      " [  1.15013308e-02]]\n",
      "Expcted gradients (approx) - first five values only:\n",
      "[[ 0.0085]\n",
      " [ 0.0188]\n",
      " [ 0.0001]\n",
      " [ 0.0503]\n",
      " [ 0.0115]]\n",
      "Cost at test theta (with lambda = 10): 3.206882212970942\n",
      "Expected cost (approx): 3.16\n",
      "Gradient at test theta (ones) - first five values only:\n",
      "[[ 0.34604507]\n",
      " [ 0.16135192]\n",
      " [ 0.19479576]\n",
      " [ 0.22686278]\n",
      " [ 0.09218568]]\n",
      "Expcted gradients (approx) - first five values only:\n",
      "[[ 0.346 ]\n",
      " [ 0.1614]\n",
      " [ 0.1948]\n",
      " [ 0.2269]\n",
      " [ 0.0922]]\n"
     ]
    }
   ],
   "source": [
    "#Get the number of examples  (m) and the number of features (n)\n",
    "m, n = X_reg.shape\n",
    "print(\"The number of training examples: \" + str(m))\n",
    "print(\"The number of features: \" + str(n))\n",
    "\n",
    "#Initialize fitting parameters\n",
    "initial_theta = np.zeros((n,1))\n",
    "\n",
    "#Set regularization parameter lambda to 1\n",
    "lamda = 1\n",
    "\n",
    "#Computer and display initial cost and gradient for regularized logistic regression\n",
    "cost , grad = costFunctionReg(initial_theta,X_reg,y_reg,lamda)\n",
    "print('Cost at initial theta (zeros): ' + str(cost))\n",
    "print('Expected cost (approx): 0.693')\n",
    "print(\"Gradient at initial theta (zeros) - first five values only:\")\n",
    "print(grad[0:5].reshape((5,1)))#注意这里可以转化为一个列向量\n",
    "print(\"Expcted gradients (approx) - first five values only:\")\n",
    "print(np.array([[0.0085],[0.0188],[0.0001],[0.0503],[0.0115]]))\n",
    "\n",
    "#Compute and display cost and gradient with all-ones theta and lambda = 10\n",
    "test_theta = np.ones((X_reg.shape[1],1))\n",
    "lamda = 10\n",
    "cost , grad = costFunctionReg(test_theta,X_reg,y_reg,lamda)\n",
    "print('Cost at test theta (with lambda = 10): ' + str(cost))\n",
    "print('Expected cost (approx): 3.16')\n",
    "print(\"Gradient at test theta (ones) - first five values only:\")\n",
    "print(grad[0:5].reshape((5,1)))#注意这里可以转化为一个列向量\n",
    "print(\"Expcted gradients (approx) - first five values only:\")\n",
    "print(np.array([[0.3460],[0.1614],[0.1948],[0.2269],[0.0922]]))"
   ]
  },
  {
   "cell_type": "markdown",
   "metadata": {},
   "source": [
    "## 2.3.1 Learning parameters using minimize\n",
    "Similar to the previous parts, you will use minimize to learn the optimal parameters θ. If you have completed the cost and gradient for regularized logistic regression (costFunctionReg.m) correctly, you should be able to step through the next part of ex2 reg.m to learn the parameters θ using minimize."
   ]
  },
  {
   "cell_type": "markdown",
   "metadata": {},
   "source": [
    "# Part 2 : Regularization and Accuracies \n",
    "Optional Exercise:\n",
    "In this part, you will get to try different values of lambda andsee how regularization affects the decision coundart.\n",
    "Try the following values of lambda (0, 1, 10, 100).\n",
    "How does the decision boundary change when you vary lambda? How doesthe training set accuracy vary?"
   ]
  },
  {
   "cell_type": "code",
   "execution_count": 218,
   "metadata": {},
   "outputs": [
    {
     "name": "stdout",
     "output_type": "stream",
     "text": [
      "Train Accuracy:0.830508474576\n",
      "Expected accuracy (with lamda = 1, approx): 0.83\n"
     ]
    }
   ],
   "source": [
    "#Initialize fitting parameters\n",
    "initial_theta = np.zeros((X_reg.shape[1],1))\n",
    "#Set regularization parameters lamda to 1\n",
    "lamda = 1\n",
    "\n",
    "optimizeResult = minimize(fun=costFunctionReg, x0= initial_theta.ravel(),\\\n",
    "                         args=(X_reg,y_reg.ravel(),lamda),\\\n",
    "                         method='BFGS',jac=True,options={'maxiter':400})\n",
    "\n",
    "#Print optimizeResult\n",
    "theta = optimizeResult.x\n",
    "theta = theta.reshape((theta.shape[0],1))\n",
    "cost = optimizeResult.fun\n",
    "\n",
    "# Compute accuracy on our training set\n",
    "p = predict(theta,X_reg)\n",
    "accuracy = np.mean(p == y_reg)\n",
    "print('Train Accuracy:'+str(accuracy))\n",
    "print(\"Expected accuracy (with lamda = 1, approx): 0.83\")"
   ]
  },
  {
   "cell_type": "markdown",
   "metadata": {},
   "source": [
    "## 2.4 Plotting the decision boundary\n",
    "To help you visualize the model learned by this classifier, we have provided the function plotDecisionBoundary.m which plots the (non-linear)decision boundary that separates the positive and negative examples. In plotDecisionBoundary.m, we plot the non-linear decision boundary by computing the classifier’s predictions on an evenly spaced grid and then and drew a contour plot of where the predictions change from y = 0 to y = 1.\n",
    "After learning the parameters θ, the next step in ex reg.m will plot a decision boundary similar to Figure 4."
   ]
  },
  {
   "cell_type": "code",
   "execution_count": 219,
   "metadata": {},
   "outputs": [
    {
     "data": {
      "image/png": "[encoded data removed]",
      "text/plain": [
       "<matplotlib.figure.Figure at 0x7fecb7fccc18>"
      ]
     },
     "metadata": {},
     "output_type": "display_data"
    }
   ],
   "source": [
    "plotDecisionBoundary(theta,X_reg,y_reg,1)\n",
    "plt.show()"
   ]
  },
  {
   "cell_type": "markdown",
   "metadata": {},
   "source": [
    "## 2.5 Optional (ungraded) exercises\n",
    "In this part of the exercise, you will get to try out different regularization parameters for the dataset to understand how regularization prevents overfitting.\n",
    "Notice the changes in the decision boundary as you vary λ. With a small λ, you should find that the classifier gets almost every training example correct, but draws a very complicated boundary, thus overfitting the data(Figure 5). This is not a good decision boundary: for example, it predicts that a point at x = (−0.25, 1.5) is accepted (y = 1), which seems to be an incorrect decision given the training set.\n",
    "With a larger λ, you should see a plot that shows an simpler decision boundary which still separates the positives and negatives fairly well. However, if λ is set to too high a value, you will not get a good fit and the decision boundary will not follow the data so well, thus underfitting the data (Figure6)."
   ]
  },
  {
   "cell_type": "code",
   "execution_count": 220,
   "metadata": {},
   "outputs": [],
   "source": [
    "#这里最好定义一个构造函数，不同的lamda对应不同的边界\n",
    "def model(X,y,lamda,initial_theta):\n",
    "    # Optimizing using minimize\n",
    "    optimizeResult = minimize(fun=costFunctionReg,x0=initial_theta.ravel(),\\\n",
    "                             args=(X,y.ravel(),lamda), method='BFGS',jac=True,\\\n",
    "                             options={'maxiter':400})\n",
    "    theta = optimizeResult.x\n",
    "    theta = theta.reshape((theta.shape[0],1))\n",
    "    return theta"
   ]
  },
  {
   "cell_type": "code",
   "execution_count": 221,
   "metadata": {},
   "outputs": [
    {
     "data": {
      "image/png": "[encoded data removed]",
      "text/plain": [
       "<matplotlib.figure.Figure at 0x7fecb804c240>"
      ]
     },
     "metadata": {},
     "output_type": "display_data"
    },
    {
     "data": {
      "image/png": "[encoded data removed]",
      "text/plain": [
       "<matplotlib.figure.Figure at 0x7fecb7ebff60>"
      ]
     },
     "metadata": {},
     "output_type": "display_data"
    },
    {
     "data": {
      "image/png": "[encoded data removed]",
      "text/plain": [
       "<matplotlib.figure.Figure at 0x7fecb805bdd8>"
      ]
     },
     "metadata": {},
     "output_type": "display_data"
    }
   ],
   "source": [
    "#Initialze fitting parameters\n",
    "initial_theta = np.zeros((X_reg.shape[1],1))\n",
    "#Set parameter lamda\n",
    "lamdaArray = [0, 1, 100]\n",
    "\n",
    "for lamda in lamdaArray:\n",
    "    theta = model(X_reg,y_reg,lamda,initial_theta)\n",
    "    plotDecisionBoundary(theta,X_reg,y_reg,lamda)\n",
    "    plt.show()"
   ]
  },
  {
   "cell_type": "code",
   "execution_count": null,
   "metadata": {
    "collapsed": true
   },
   "outputs": [],
   "source": []
  }
 ],
 "metadata": {
  "kernelspec": {
   "display_name": "Python 3",
   "language": "python",
   "name": "python3"
  },
  "language_info": {
   "codemirror_mode": {
    "name": "ipython",
    "version": 3
   },
   "file_extension": ".py",
   "mimetype": "text/x-python",
   "name": "python",
   "nbconvert_exporter": "python",
   "pygments_lexer": "ipython3",
   "version": "3.6.1"
  }
 },
 "nbformat": 4,
 "nbformat_minor": 2
}
