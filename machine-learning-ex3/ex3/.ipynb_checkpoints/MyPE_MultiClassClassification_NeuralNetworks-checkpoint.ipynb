{
 "cells": [
  {
   "cell_type": "markdown",
   "metadata": {},
   "source": [
    "# Programming Exercise 3:\n",
    "# Multi-class Classification and Neural Networks"
   ]
  },
  {
   "cell_type": "markdown",
   "metadata": {},
   "source": [
    "## 1 Multi-class Classification\n",
    "For this exercise, you will use logistic regression and neural networks to recognize handwritten digits (from 0 to 9). Automated handwritten digit recognition is widely used today - from recognizing zip codes (postal codes)on mail envelopes to recognizing amounts written on bank checks. This exercise will show you how the methods you’ve learned can be used for this classification task.\n",
    "In the first part of the exercise, you will extend your previous implemention of logistic regression and apply it to one-vs-all classification."
   ]
  },
  {
   "cell_type": "markdown",
   "metadata": {},
   "source": [
    "## 1.1 Dataset\n",
    "You are given a data set in ex3data1.mat that contains 5000 training examples of handwritten digits. 2 The .mat format means that that the data has been saved in a native Octave/MATLAB matrix format, instead of a text(ASCII) format like a csv-file. These matrices can be read directly into your program by using the load command. After loading, matrices of the correct dimensions and values will appear in your program’s memory. The matrix will already be named, so you do not need to assign names to them."
   ]
  },
  {
   "cell_type": "code",
   "execution_count": 218,
   "metadata": {
    "collapsed": true
   },
   "outputs": [],
   "source": [
    "import scipy.io as sio\n",
    "import matplotlib.pyplot as plt\n",
    "import numpy as np\n",
    "from matplotlib import cm\n",
    "import matplotlib\n",
    "from scipy.optimize import minimize\n",
    "from IPython.display import clear_output  # clear the output of the cell\n",
    "from sklearn.metrics import classification_report #这个包是评价报告\n",
    "%matplotlib inline"
   ]
  },
  {
   "cell_type": "code",
   "execution_count": 219,
   "metadata": {},
   "outputs": [
    {
     "name": "stdout",
     "output_type": "stream",
     "text": [
      "(5000, 400)\n",
      "(5000, 1)\n"
     ]
    },
    {
     "data": {
      "text/plain": [
       "(5000, 1)"
      ]
     },
     "execution_count": 219,
     "metadata": {},
     "output_type": "execute_result"
    }
   ],
   "source": [
    "\n",
    "#Load saved matrices from file\n",
    "#读取matlab的数据文件(*.mat)使用scipy.io即可，sicpy.io提供了两个函数loadmat和savemat\n",
    "data = sio.loadmat('ex3data1.mat')\n",
    "#print(data)\n",
    "\n",
    "\n",
    "X = data['X']\n",
    "y = data['y']\n",
    "#print(X)\n",
    "#print(y)\n",
    "print(X.shape)\n",
    "print(y.shape)\n",
    "(5000, 400)\n",
    "(5000, 1)\n"
   ]
  },
  {
   "cell_type": "markdown",
   "metadata": {},
   "source": [
    "There are 5000 training examples in ex3data1.mat, where each training\n",
    "example is a 20 pixel by 20 pixel grayscale image of the digit. Each pixel is represented by a floating point number indicating the grayscale intensity at that location. The 20 by 20 grid of pixels is “unrolled” into a 400-dimensional vector. Each of these training examples becomes a single row in our data matrix X. This gives us a 5000 by 400 matrix X where every row is a training example for a handwritten digit image.就是有5000个实例，每个实例有400个特征，(5000,400)\n",
    "$$X = \\left[\\begin{array}{c}-{({x}^{(1)})}^{T}-\\\\-{({x}^{(2)})}^{T}-\\\\ \\vdots \\\\-{({x}^{(m)})}^{T}- \\end{array}\\right]$$\n",
    "The second part of the training set is a 5000-dimensional vector y that\n",
    "contains labels for the training set. To make things more compatible with Octave/MATLAB indexing, where there is no zero index, we have mapped the digit zero to the value ten. Therefore, a “0” digit is labeled as “10”, while the digits “1” to “9” are labeled as “1” to “9” in their natural order."
   ]
  },
  {
   "cell_type": "markdown",
   "metadata": {},
   "source": [
    "## 1.2 Visualizing the data\n",
    "You will begin by visualizing a subset of the training set. In Part 1 of ex3.m,the code randomly selects selects 100 rows from X and passes those rows to the displayData function. This function maps each row to a 20 pixel by 20 pixel grayscale image and displays the images together. We have provided the displayData function, and you are encouraged to examine the code to see how it works. After you run this step, you should see an image like Figure1."
   ]
  },
  {
   "cell_type": "markdown",
   "metadata": {},
   "source": [
    "## Machine Learning online class - Exercise 3 | part 1:one-vs-all\n",
    "> * Part 1:Loading and Visualizing Data\n",
    "\n",
    "We start the exercise by first loading and visualizing the dataset.\n",
    "You will be working with a dataset that contains handwritten digits."
   ]
  },
  {
   "cell_type": "code",
   "execution_count": 220,
   "metadata": {},
   "outputs": [
    {
     "name": "stdout",
     "output_type": "stream",
     "text": [
      "Loading and Visualizing Data ...\n"
     ]
    }
   ],
   "source": [
    "#Load Training Data\n",
    "print(\"Loading and Visualizing Data ...\")\n",
    "data = sio.loadmat('ex3data1.mat') \n",
    "X = data['X']\n",
    "y = data['y']\n",
    "m = X.shape[0]\n",
    "#Randomly select 100 data points to display\n",
    "rand_indices = np.random.randint(0,m,100)\n",
    "#print(rand_indices)\n",
    "#print(type(rand_indices))\n",
    "#print(rand_indices.shape)\n",
    "num_labels = 10 #10 labels,from 1 to 10\n",
    "sel = X[rand_indices[0:100],:]\n",
    "#print(sel)\n",
    "#print(sel.shape)"
   ]
  },
  {
   "cell_type": "code",
   "execution_count": 221,
   "metadata": {
    "collapsed": true
   },
   "outputs": [],
   "source": [
    "def displayData(X,example_width=None):\n",
    "    \"\"\"\n",
    "    displayData(X,example_width) displays 2D data stored in X in a nice\n",
    "    grid.It returns the figure handle h and the displayed array if \n",
    "    requested.\n",
    "    \"\"\"\n",
    "    #Set example_width automatically if not passed in \n",
    "    if (example_width == None):\n",
    "        example_width = int(np.sqrt(X.shape[1])) #求平方根 20\n",
    "    #Compute the number of images,the pixels of each image\n",
    "    m,pixels = X.shape\n",
    "    \n",
    "    #Compute the height of each image\n",
    "    w = example_width\n",
    "    h = int(pixels / w)\n",
    "    \n",
    "    #Compute number of items to display\n",
    "    display_rows = int(np.floor(np.sqrt(m)))\n",
    "    print(display_rows)\n",
    "    \n",
    "    display_cols = int(np.ceil(m / display_rows))\n",
    "    print(display_cols)\n",
    "    #The padding between images\n",
    "    #-1在灰度图像中表示最黑的，最小是黑的，最大是白的\n",
    "    h_padding = -np.ones((1,(w+1)*display_cols+1))\n",
    "    v_padding = -np.ones((h,1))\n",
    "    \n",
    "    #Set up blank display\n",
    "    display_array = h_padding\n",
    "    row_images = v_padding\n",
    "    \"\"\"\n",
    "    Rearange the data Note that scan order used by reshpae in numpy \n",
    "    defanlts to the 'C' order,whereas MATLAB uses the Fortran order.we\n",
    "    can do transpose to make transform.\n",
    "    https://docs.scipy.org/doc/numpy-dev/user/numpy-for-matlab-users.html\n",
    "    \"\"\"\n",
    "    stacked_images = X.reshape(m*h,w) #2000*20\n",
    "    split_stacked_images = np.array(np.vsplit(stacked_images,range(h,m*h,h)))\n",
    "    \n",
    "    for i in range(1,display_rows*display_cols+1):\n",
    "        #if can't be displaed as a exact square\n",
    "        if i > m:\n",
    "            single_image = -np.ones((h,w)) #blank\n",
    "        else:\n",
    "            single_image = split_stacked_images[i-1].T #digit image\n",
    "        \n",
    "        if (i % display_cols) == 0:\n",
    "            row_images = np.hstack((row_images,single_image))\n",
    "            row_images = np.hstack((row_images,v_padding))\n",
    "            display_array = np.vstack((display_array,row_images))\n",
    "            display_array = np.vstack((display_array,h_padding))\n",
    "            row_images = v_padding #clear row_images to v_padding\n",
    "        else:\n",
    "            row_images = np.hstack((row_images,single_image))\n",
    "            row_images = np.hstack((row_images,v_padding))\n",
    "            \n",
    "    #print(display_array.shape)\n",
    "    #Display image\n",
    "    plt.imshow(display_array,cmap='gray')\n",
    "    plt.axis(\"off\")\n",
    "    plt.title(\"Examples from the dataset\")\n",
    "    plt.show()"
   ]
  },
  {
   "cell_type": "code",
   "execution_count": 222,
   "metadata": {},
   "outputs": [
    {
     "name": "stdout",
     "output_type": "stream",
     "text": [
      "10\n",
      "10\n"
     ]
    },
    {
     "data": {
      "image/png": "[encoded data removed]",
      "text/plain": [
       "<matplotlib.figure.Figure at 0x7fdbdbc85eb8>"
      ]
     },
     "metadata": {},
     "output_type": "display_data"
    },
    {
     "name": "stdout",
     "output_type": "stream",
     "text": [
      "[[ 1  8  1  4 10  4  6  8  3  8]\n",
      " [10  6  3  1  8  8  5 10  5  9]\n",
      " [ 1  2  7  8  6 10  5  5  4  5]\n",
      " [ 6  2  1 10  5  2 10  2  2  4]\n",
      " [ 4  9  2  2  2  8  9 10  4  8]\n",
      " [ 9 10  9  1  5  2  5  1 10  3]\n",
      " [ 2  8  7  2  8  8  1  8  4  3]\n",
      " [ 2  9  3 10  1  2  3  9  7  8]\n",
      " [ 6  9  3  5  4 10  7  7 10  2]\n",
      " [ 2  2  7  3  5  4  1 10  6 10]]\n"
     ]
    }
   ],
   "source": [
    "#Plot examples fromt the dataset\n",
    "displayData(X[rand_indices])\n",
    "#Display the labels of the examples.\"10\" denotes \"0\"\n",
    "print(y[rand_indices].reshape(10,10))"
   ]
  },
  {
   "cell_type": "markdown",
   "metadata": {},
   "source": [
    "## 1.3 Vectorizing Logistic Regression\n",
    "You will be using multiple one-vs-all logistic regression models to build a multi-class classifier. Since there are 10 classes, you will need to train 10 separate logistic regression classifiers. To make this training efficient, it is important to ensure that your code is well vectorized. In this section, you will implement a vectorized version of logistic regression that dose not employ any for loops. You can use your code in the last exercise as a starting point for this exercise."
   ]
  },
  {
   "cell_type": "markdown",
   "metadata": {
    "collapsed": true
   },
   "source": [
    "## 1.3.1 vectorizing the cost function\n",
    "We will begin by writing a vectorized version of the cost function. Recall that in (unregularized) logistic regression, the cost function is\n",
    "$$J(\\theta) = \\frac{1}{m} \\sum_{i=1}^m [-y^{(i)} \\log(h_{\\theta}(x^{(i)})) - (1-y^{(i)}) \\log (1-h_{\\theta}(x^{(i)}))] $$\n",
    "To compute each element in the summation, we have to compute${h}_{\\theta}({x}^{(i)})$for every example i,where ${h}_{\\theta}({x}^{(i)}) = g({\\theta}^{T}{x}^{(i)})$ and g(z) = $\\frac{1}{1+{e}^{-z}}$ is the sigmoid function. It turns out that we can compute this quickly for all our examples by using matrix multiplication. Let us define X and $\\theta$ as\n",
    "$$ X = \\left[\\begin{array}{ccc} \\text{——} (x^{(1)})^T \\text{——} \\\\ \\text{——} (x^{(2)})^T \\text{——} \\\\ \\vdots \\\\ \\text{——} (x^{(m)})^T \\text{——} \\end{array}\\right] \\quad \\text{and} \\quad\n",
    "\\theta = \\left[\\begin{array}{c}\\theta_0 \\\\ \\theta_1 \\\\ \\vdots \\\\ \\theta_n \\end{array}\\right] $$\n",
    "Then, by computing the matrix product $X\\theta$, we have\n",
    "$$ X\\theta = \\left[\\begin{array}{ccc} \\text{——} (x^{(1)})^T \\theta \\text{——} \\\\ \\text{——} (x^{(2)})^T \\theta \\text{——} \\\\ \\vdots \\\\ \\text{——} (x^{(m)})^T \\theta \\text{——} \\end{array}\\right]\n",
    "= \\left[\\begin{array}{ccc} \\text{——} \\theta^T(x^{(1)}) \\text{——} \\\\ \\text{——} \\theta^T(x^{(2)}) \\text{——} \\\\ \\vdots \\\\ \\text{——} \\theta^T(x^{(m)}) \\text{——} \\end{array}\\right] $$\n",
    "\n",
    "In the last equality, we used the fact that $a^Tb = b^Ta$ if $a$ and $b$ are vectors. This allows us to compute the products $\\theta^T x^{(i)}$ for all our examples $i$ in one line of code.\n",
    "\n",
    "Your job is to write the unregularized cost function `lrCostFunctioin`. Your implementation should use the strategy we presented above to calculate $\\theta^T x^{(i)}$. You should also use a vectorized approach for the rest of the cost function. A fully vectorized version of `lrCostFunction` should not contain any loops."
   ]
  },
  {
   "cell_type": "markdown",
   "metadata": {},
   "source": [
    "## 1.3.2 Vectorizing the gradient\n",
    "Recall that the gradient of the (unregularized) logistic regression cost is a vector where the ${J}^{th}$ element is defined as\n",
    "$$\\frac{\\partial J}{\\partial {\\theta}_{j}} = \\frac{1}{m}\\sum_{i=1}^{m}(({h}_{\\theta}({x}^{(i)})-{y}^{(i)}){{x}_{j}}^{(i)})$$\n",
    "To vectorize this operation over the dataset, we start by writing out all the partial derivatives explicitly for all ${\\theta}_{j}$\n",
    "$$ \\left[\\begin{array}{c} \\frac{\\partial J}{\\partial \\theta_0} \\\\ \\frac{\\partial J}{\\partial \\theta_1} \\\\ \\frac{\\partial J}{\\partial \\theta_2} \\\\ \\vdots \\\\ \\frac{\\partial J}{\\partial \\theta_n} \\end{array}\\right]\n",
    "= \\frac{1}{m} \\left[\\begin{array}{c} \\sum_{i=1}^m ((h_{\\theta}(x^{(i)}) - y^{(i)}) x_0^{(i)}) \\\\ \\sum_{i=1}^m ((h_{\\theta}(x^{(i)}) - y^{(i)}) x_1^{(i)}) \\\\ \\sum_{i=1}^m ((h_{\\theta}(x^{(i)}) - y^{(i)}) x_2^{(i)}) \\\\ \\vdots \\\\ \\sum_{i=1}^m ((h_{\\theta}(x^{(i)}) - y^{(i)}) x_n^{(i)}) \\end{array}\\right]\n",
    "= \\frac{1}{m} \\sum_{i=1}^m ((h_{\\theta}(x^{(i)}) - y^{(i)}) x^{(i)})\n",
    "= \\frac{1}{m} X^T (h_{\\theta}(x) - y) $$\n",
    "where\n",
    "$$ h_{\\theta}(x) - y = \\left[\\begin{array}{c} h_{\\theta}(x^{(1)})-y^{(1)} \\\\ h_{\\theta}(x^{(2)})-y^{(2)} \\\\ \\vdots \\\\ h_{\\theta}(x^{(m)})-y^{(m)} \\end{array}\\right] $$\n",
    "\n",
    "Note that $x^{(i)}$ is a vector, while $(h_{\\theta}(x^{(i)})-y^{(i)})$ is a scalar (single number). To understand the last step of the derivation, let $\\beta_i = (h_{\\theta}(x^{(i)})-y^{(i)})$ and observe that:\n",
    "$$ \\sum_i \\beta_i x^{(i)} = \\left[\\begin{array}{cccc} | & | & & | \\\\ x^{(1)} & x^{(2)} & \\cdots & x^{(m)} \\\\ | & | & & | \\end{array}\\right] \\left[\\begin{array}{c} \\beta_1 \\\\ \\beta_2 \\\\ \\vdots \\\\ \\beta_m \\end{array}\\right] = X^T \\beta $$\n",
    "where the values $\\beta_i = (h_{\\theta}(x^{(i)}) - y^{(i)})$.\n",
    "\n",
    "The expression above allows us to compute all the partial derivatives without any loops. If you are comfortable with linear algebra, we encourage you to work through the matrix multiplication above to convince yourself that the vectorized version does the same computations.\n",
    "\n",
    "**Debugging Tip: ** Vectorizing code can sometimes be tricky. One common strategy for debugging is to print out the sizes of the matrices you are working with using the `shape` function. For example, given a data matrix $X$ of shape $100 \\times 20$ (100 exmples, 20 features) and $\\theta$, a vector with dimensions $20 \\times 1$, you can observe that $X\\theta$ is a valid multiplication operation, while $\\theta X$ is not. Furthermore, if you have a non-vectorized version of your code, you can compare the output of your vectorized code and non-vectorized code to make sure that they produce the same outputs."
   ]
  },
  {
   "cell_type": "markdown",
   "metadata": {},
   "source": [
    "## 1.3.3 Vectorizing regularized logistic regression\n",
    "After you have implemented vectorization for logistic regression, you will now add regularization to the cost function. Recall that for regularized logistic regression, the cost function is defined as\n",
    "$$ J(\\theta) = \\frac{1}{m} \\sum_{i=1}^m [-y^{(i)} \\log(h_{\\theta}(x^{(i)})) - (1-y^{(i)}) \\log (1-h_{\\theta}(x^{(i)}))] + \\frac{\\lambda}{2m} \\sum_{j=1}^{n} \\theta_j^2 $$\n",
    "Note that you should *not* be regularizing $\\theta_0$ which is used for the bias term. \n",
    "\n",
    "Correspondingly, the partial derivative of regularized logistic regression cost for $\\theta_j$ is defined as\n",
    "$$ \\frac{\\partial J}{\\partial \\theta_j} = \\frac{1}{m} \\sum_{i=1}^m ((h_{\\theta}(x^{(i)}) - y^{(i)}) x_j^{(i)}) \\qquad \\text{for } j = 0 $$\n",
    "$$ \\frac{\\partial J}{\\partial \\theta_j} = (\\frac{1}{m} \\sum_{i=1}^m ((h_{\\theta}(x^{(i)}) - y^{(i)}) x_j^{(i)})) + \\frac{\\lambda}{m} \\theta_j \\qquad \\text{for } j \\geq 1 $$ "
   ]
  },
  {
   "cell_type": "code",
   "execution_count": 223,
   "metadata": {
    "collapsed": true
   },
   "outputs": [],
   "source": [
    "def sigmoid(z):\n",
    "    g = 1 / (1 + np.exp(-z))\n",
    "    return g"
   ]
  },
  {
   "cell_type": "code",
   "execution_count": 224,
   "metadata": {
    "collapsed": true
   },
   "outputs": [],
   "source": [
    "def lrCostFunction(theta, X, y, lamda):\n",
    "    \"\"\"\n",
    "    LRCOSTFUNCTION Compute cost and gradient for logistic regression with\n",
    "    regulation\n",
    "         J = LRCOSTEFUNCTION(theta,X,y,lamda) computes the cost of using \n",
    "         theta as the parameter for regularized logistic regression and \n",
    "         the gradient of the cost w.r.t. to the parameters.\n",
    "    \"\"\"\n",
    "    #Initialize some useful values\n",
    "    m = X.shape[0]\n",
    "    #Arguments theta must be rank 1 array\n",
    "    theta = theta.reshape((theta.shape[0],1))\n",
    "    #Compute the cost J\n",
    "    J=-1.0*(np.dot(y.T,np.log(sigmoid(np.dot(X,theta))))\\\n",
    "          +np.dot((1-y).T,np.log(1-sigmoid(np.dot(X,theta)))))/m\\\n",
    "            + lamda*np.dot(theta[1:].T, theta[1:])/(2*m)\n",
    "    J = np.squeeze(J)\n",
    "    # Compute the gradients\n",
    "    grads = np.dot(X.T,sigmoid(np.dot(X,theta))-y) / m + lamda / m *theta\n",
    "    grads[0] = grads[0] - lamda / m * theta[0]\n",
    "    #Rerturn J and grads (grads should be a rank 1 array)\n",
    "    return J,grads.ravel()"
   ]
  },
  {
   "cell_type": "markdown",
   "metadata": {},
   "source": [
    "## Part 2a: Vectorize Logistic Regression\n"
   ]
  },
  {
   "cell_type": "code",
   "execution_count": 225,
   "metadata": {},
   "outputs": [
    {
     "name": "stdout",
     "output_type": "stream",
     "text": [
      "Testing lrCostFunction() with regularization\n",
      "Cost: 2.5348193961097443\n",
      "Expected cost:2.534819\n",
      "Gradients:\n",
      "[[ 0.14656137]\n",
      " [-0.54855841]\n",
      " [ 0.72472227]\n",
      " [ 1.39800296]]\n",
      "Expected gradients:\n",
      "[[ 0.146561]\n",
      " [-0.548558]\n",
      " [ 0.724722]\n",
      " [ 1.398003]]\n"
     ]
    }
   ],
   "source": [
    "# Test case for lrCostFunction\n",
    "print(\"Testing lrCostFunction() with regularization\")\n",
    "theta_t = np.array([[-2],[-1],[1],[2]])\n",
    "X_t = np.hstack((np.ones((5,1)), np.arange(1,16).reshape(5,3,order='F')/10))\n",
    "y_t = np.array([[1],[0],[1],[0],[1]])\n",
    "lamda_t = 3\n",
    "J , grad = lrCostFunction(theta_t,X_t,y_t,lamda_t)\n",
    "\n",
    "print(\"Cost: \"+str(J))\n",
    "print(\"Expected cost:2.534819\")\n",
    "print(\"Gradients:\")\n",
    "print(grad.reshape((4,1)))\n",
    "print(\"Expected gradients:\")\n",
    "print(np.array([[0.146561],[-0.548558],[0.724722],[1.398003]]))"
   ]
  },
  {
   "cell_type": "markdown",
   "metadata": {},
   "source": [
    "## 1.4 One-vs-all \n",
    "In this part of the exercise, you will implement one-vs-all classification by training multiple regularized logistic regression classifiers, one for each of the $K$ classes in our dataset. In the handwritten digits dataset, $K = 10$, but your code should work for any value of $K$.\n",
    "\n",
    "You should now complete the code in `oneVsAll` function to train one classifier for each class. In particular, your code should return all the classifier parameters in a matrix $\\Theta \\in \\mathbb{R}^{K \\times (N + 1)}$, where each row of $\\Theta$ corresponds to the learned logistic regression parameters for one class. You can do this with a \"for\"-loop from 1 to $K$, training each classifier independently.\n",
    "\n",
    "Note that the y argument to this function is a vector of labels from 1 to 10, where we have mapped teh digit \"0\" to the label 10 (to avoid confusions with indexing in some languages).\n",
    "\n",
    "When training the classifier for class $k \\in \\{1, \\ldots, K\\}$, you will want a $m$-dimensional vector of labels $y$, where $y_i \\in \\{0, 1\\}$ indicates whether the $j$-th training instance belongs to class $k$ ($y_i = 1$), or if it belongs to a different class ($y_i = 0$). You may find logical arrays helpful for this task."
   ]
  },
  {
   "cell_type": "code",
   "execution_count": 226,
   "metadata": {},
   "outputs": [],
   "source": [
    "def oneVsAll(X,y,num_labels,lamda):\n",
    "    \"\"\"\n",
    "    ONEVASALL trains multiple logistic regression classifiers and \n",
    "    returns all the classifiers in a matrix all_theta,where the i-th row\n",
    "    of all_theta corresponds to the classifier for label i\n",
    "    [all_theta] = ONEVSALL(X,y,num_labels,lambda)trains num_labels\n",
    "    logistic regression classifiers and returns each of these classifiers\n",
    "    in a matrix all_theta,where the i-th row of all_theta corresponds\n",
    "    to the classifier for label i\n",
    "    \"\"\"\n",
    "    # m:the number of training examples\n",
    "    # n:the number of features\n",
    "    m,n = X.shape\n",
    "    \n",
    "    #Add ones to the X data matrix\n",
    "    X = np.hstack((np.ones((m,1)),X))\n",
    "    \n",
    "    #You should return the following variables correctly\n",
    "    all_theta = np.zeros((num_labels, n+1))\n",
    "    \n",
    "    for c in range(1,num_labels+1):\n",
    "        #set initial theta\n",
    "        initial_theta = np.zeros((n+1,1))\n",
    "        #Get y_tratin for num_label c\n",
    "        y_train = np.zeros(y.shape)\n",
    "        y_train[y==c] = 1\n",
    "        #Run 'minimize' to obtain the optimal theta and the cost\n",
    "        optimizeResult = minimize(fun=lrCostFunction,x0=initial_theta,\\\n",
    "                                 args=(X,y_train,lamda),\\\n",
    "                                 method='TNC',jac=True,\\\n",
    "                                 options={'disp':True})\n",
    "        theta = optimizeResult.x\n",
    "        #print(theta.shape)\n",
    "        all_theta[c-1,:] = theta #theta[True] turn it into a row vector\n",
    "        \n",
    "    return all_theta"
   ]
  },
  {
   "cell_type": "code",
   "execution_count": 227,
   "metadata": {},
   "outputs": [
    {
     "name": "stdout",
     "output_type": "stream",
     "text": [
      "Training One-vs-All Logistic Regression...\n"
     ]
    }
   ],
   "source": [
    "print(\"Training One-vs-All Logistic Regression...\")\n",
    "lamda = 0.1 #the regularization parameter\n",
    "all_theta = oneVsAll(X,y,num_labels,lamda)"
   ]
  },
  {
   "cell_type": "markdown",
   "metadata": {},
   "source": [
    "## 1.4.1 One-vs-all Prediction\n",
    "After training your one-vs-all classifier, you can now use it to predict the digit contained in a given image. For each input, you should compute the \"probability\" that it belongs to each class using the trained logistic regression classifier. Your one-vs-all prediction function will pick the class for which the corresponding logistic regression classifier outputs the highest probability and return the class label (1, 2, ..., or $K$) as the prediction for the input example.\n",
    "\n",
    "You should now complete the code in `predictOneVsAll` function to use the one-vs-all classifier to make predictions.\n",
    "\n",
    "Once you are done, the following script will call your `predictOneVsAll` function using the learned value of $\\Theta$. You should see that training set accuracy is about 94.9% (i.e., it classifiers 94.9% of the examples in the training set correctly)."
   ]
  },
  {
   "cell_type": "code",
   "execution_count": 228,
   "metadata": {
    "collapsed": true
   },
   "outputs": [],
   "source": [
    "def predictOneVsAll(all_theta,X):\n",
    "    \"\"\"\n",
    "    `p = predictOneVsAll(all_theta, X)` will return a vector of predictions\n",
    "    for each example in the matrix X. Note that X contains the examples in\n",
    "    rows. all_theta is a matrix where the i-th row is a trained logistic\n",
    "    regression theta vector for the i-th class. you should set p to a\n",
    "    vector of values from 1 to K (e.g., p = [[1], [3], [1], [2]] predicts\n",
    "    classes 1, 3, 1, 2 for 4 examples)\n",
    "    \"\"\"\n",
    "    m = X.shape[0] #the number of examples\n",
    "    num_labels = all_theta.shape[0] #the number of labels\n",
    "    \n",
    "    # Add ones to the X data matrix\n",
    "    X = np.hstack((np.ones((m,1)), X))\n",
    "    \n",
    "    #Get the max value's index for each row\n",
    "    p = np.argmax(np.dot(X, all_theta.T), axis=1) + 1\n",
    "    #p is a rank one array,reshape it to a column vector\n",
    "    print(p.shape)\n",
    "    p = p.reshape((p.shape[0],1))\n",
    "    \n",
    "    \n",
    "    return p"
   ]
  },
  {
   "cell_type": "code",
   "execution_count": 229,
   "metadata": {},
   "outputs": [
    {
     "name": "stdout",
     "output_type": "stream",
     "text": [
      "(5000,)\n",
      "Training set accuracy: 96.46\n"
     ]
    }
   ],
   "source": [
    "#Predict for One-vs-All\n",
    "pred = predictOneVsAll(all_theta, X)\n",
    "\n",
    "accuracy = np.sum(pred == y) / m * 100\n",
    "print(\"Training set accuracy: \" + str(accuracy))"
   ]
  },
  {
   "cell_type": "markdown",
   "metadata": {},
   "source": [
    "## 2.Neural Networks\n",
    "In the previous part of this exercise, you implemented multi-class logistic regression to recognize handwritten digits. However, logistic regression cannot form more complex hypothese as it is only a linear classifier. (You could add more features, such as polynomial features, to logistic regression, but that can be very expensive to train.)\n",
    "\n",
    "In this part of the exercise, you will implement a neural network to recognize handwritten digits using the same training set as before. The neural network will be able to represent complex models that form non-linear hypothese. For this week, you will be using parameters from a neural network that we have already trained. Your goal is to implement the feedforward propagation algorithm to use our weights for prediction. In next week's exercise, you will write the backpropagation algorithm for learning the neural network parameters."
   ]
  },
  {
   "cell_type": "markdown",
   "metadata": {},
   "source": [
    "## 2.1 Model representation\n",
    "Our neural network is shown in the following figure.\n",
    "![Neural Network model](data/ex3/neural-network-model.jpg)\n",
    "It has 3 layers - an input layer, a hidden layer and an output layer. Recall that our inputs are pixel values of digit images. Since the images are of size $20 \\times 20$, this gives us 400 input layer units (excluding the extra bias unit which always outputs +1). As before, the training data will be loaded into the variables $X$ and $y$.\n",
    "\n",
    "You have been provided with a set of network parameters $(\\Theta^{(1)}, \\Theta^{(2)})$ already trained by us. These are stored in `data/ex3/ex3weights.mat` and wil be loaded by the script into `Theta1` and `Theta2`. The parameters have dimensions that are sized for a neural network with 25 units in the second layer and 10 output units (corresponding to the 10 digit classes)."
   ]
  },
  {
   "cell_type": "markdown",
   "metadata": {},
   "source": [
    "> *  Neural Networks\n",
    "## Instructions\n",
    "This file contains code that helps you get started on the linear exercise. You will need to complete the following functions in this exercise:"
   ]
  },
  {
   "cell_type": "code",
   "execution_count": 230,
   "metadata": {
    "collapsed": true
   },
   "outputs": [],
   "source": [
    "#Setup the parameters you will use for this exercise\n",
    "input_layer_size = 400 #20*20 input images of digits\n",
    "hidden_layer_size = 25 #25 hidden units\n",
    "num_labels = 10        #10 labels,from 1 to 10"
   ]
  },
  {
   "cell_type": "markdown",
   "metadata": {},
   "source": [
    "> - Part 1:Loading and Visualizing Data\n",
    "\n",
    "We start the exercise by first loading and visualizing the dataset. \n",
    "You will be working with a dataset that contains handwritten digits."
   ]
  },
  {
   "cell_type": "code",
   "execution_count": 231,
   "metadata": {},
   "outputs": [
    {
     "name": "stdout",
     "output_type": "stream",
     "text": [
      "Loading and Visualizing Data...\n",
      "10\n",
      "10\n"
     ]
    },
    {
     "data": {
      "image/png": "[encoded data removed]",
      "text/plain": [
       "<matplotlib.figure.Figure at 0x7fdbdc06d588>"
      ]
     },
     "metadata": {},
     "output_type": "display_data"
    }
   ],
   "source": [
    "#Load Training Data\n",
    "print(\"Loading and Visualizing Data...\")\n",
    "data = sio.loadmat('ex3data1.mat')\n",
    "X = data['X']  #(5000,400)\n",
    "y = data['y']  #(5000,1)\n",
    "m = X.shape[0] #5000\n",
    "\n",
    "#Randomly select 100 data points to display\n",
    "sel = np.random.randint(0,m,100)\n",
    "\n",
    "displayData(X[sel])"
   ]
  },
  {
   "cell_type": "markdown",
   "metadata": {},
   "source": [
    "> * Part 2: Loading Pameters\n"
   ]
  },
  {
   "cell_type": "code",
   "execution_count": 232,
   "metadata": {},
   "outputs": [
    {
     "name": "stdout",
     "output_type": "stream",
     "text": [
      "Loading Saved Neural Network Parameters...\n"
     ]
    }
   ],
   "source": [
    "print(\"Loading Saved Neural Network Parameters...\")\n",
    "weights = sio.loadmat('ex3weights.mat')\n",
    "#print(weights)\n",
    "theta1 = weights['Theta1'] #(25,401)\n",
    "theta2 = weights['Theta2'] #(10,26)\n",
    "#print(theta1.shape,theta2.shape)\n"
   ]
  },
  {
   "cell_type": "markdown",
   "metadata": {},
   "source": [
    "> * Part 3:Implement Predict\n",
    "\n",
    "After training the neural network, we would like to use it to predict\n",
    "the labels. You will now implement the \"predict\" function to use the\n",
    "neural network to predict the labels of the training set. This lets\n",
    "you compute the training set accuracy."
   ]
  },
  {
   "cell_type": "code",
   "execution_count": 233,
   "metadata": {
    "collapsed": true
   },
   "outputs": [],
   "source": [
    "def predict(theta1,theta2,X):\n",
    "    \"\"\"\n",
    "    p = predict(theta1,theta2,X) outputs the predicted label of X given\n",
    "    the trained weights of neural network (theta1,theta2)\n",
    "    \"\"\"\n",
    "    #useful values\n",
    "    m = X.shape[0]\n",
    "    num_labels = theta2.shape[0]\n",
    "    #You need to return the following variables correctly\n",
    "    p = np.zeros((X.shape[0],1))\n",
    "    a1 = np.hstack((np.ones((X.shape[0],1)),X))\n",
    "    z2 = a1 @ theta1.T #(5000,401) @ (25,401.T) = (5000,25)\n",
    "    #z2 = np.insert(z2, 0, values=np.ones(z2.shape[0]), axis=1)\n",
    "    z2.shape\n",
    "    a2 = sigmoid(z2)\n",
    "    print(a2.shape)\n",
    "    a2 = np.hstack((np.ones((X.shape[0],1)),a2))\n",
    "    print(a2.shape)\n",
    "    z3 = a2 @ theta2.T\n",
    "    z3.shape\n",
    "    a3 = sigmoid(z3)\n",
    "    p = a3\n",
    "    p = np.argmax(a3,axis=1) + 1\n",
    "    \n",
    "    return p"
   ]
  },
  {
   "cell_type": "markdown",
   "metadata": {},
   "source": [
    "> * feed forward prediction\n",
    "\n",
    "这是另一种方法"
   ]
  },
  {
   "cell_type": "code",
   "execution_count": 234,
   "metadata": {},
   "outputs": [
    {
     "data": {
      "text/plain": [
       "'\\na1 = np.hstack((np.ones((X.shape[0],1)),X))\\nz2 = a1 @ theta1.T #(5000,401) @ (25,401.T) = (5000,25)\\n#z2 = np.insert(z2, 0, values=np.ones(z2.shape[0]), axis=1)\\nz2.shape\\na2 = sigmoid(z2)\\nprint(a2.shape)\\na2 = np.hstack((np.ones((X.shape[0],1)),a2))\\nprint(a2.shape)\\nz3 = a2 @ theta2.T\\nz3.shape\\na3 = sigmoid(z3)\\na3\\nprint(a3.shape)\\n'"
      ]
     },
     "execution_count": 234,
     "metadata": {},
     "output_type": "execute_result"
    }
   ],
   "source": [
    "\"\"\"\n",
    "a1 = np.hstack((np.ones((X.shape[0],1)),X))\n",
    "z2 = a1 @ theta1.T #(5000,401) @ (25,401.T) = (5000,25)\n",
    "#z2 = np.insert(z2, 0, values=np.ones(z2.shape[0]), axis=1)\n",
    "z2.shape\n",
    "a2 = sigmoid(z2)\n",
    "print(a2.shape)\n",
    "a2 = np.hstack((np.ones((X.shape[0],1)),a2))\n",
    "print(a2.shape)\n",
    "z3 = a2 @ theta2.T\n",
    "z3.shape\n",
    "a3 = sigmoid(z3)\n",
    "a3\n",
    "print(a3.shape)\n",
    "\"\"\""
   ]
  },
  {
   "cell_type": "code",
   "execution_count": 235,
   "metadata": {},
   "outputs": [
    {
     "name": "stdout",
     "output_type": "stream",
     "text": [
      "(5000, 25)\n",
      "(5000, 26)\n"
     ]
    },
    {
     "data": {
      "text/plain": [
       "(5000,)"
      ]
     },
     "execution_count": 235,
     "metadata": {},
     "output_type": "execute_result"
    }
   ],
   "source": [
    "p = predict(theta1,theta2,X)\n",
    "p.shape"
   ]
  },
  {
   "cell_type": "code",
   "execution_count": null,
   "metadata": {},
   "outputs": [
    {
     "name": "stdout",
     "output_type": "stream",
     "text": [
      "             precision    recall  f1-score   support\n",
      "\n",
      "          1       0.97      0.98      0.98       500\n",
      "          2       0.98      0.97      0.98       500\n",
      "          3       0.98      0.96      0.97       500\n",
      "          4       0.97      0.97      0.97       500\n",
      "          5       0.97      0.98      0.98       500\n",
      "          6       0.98      0.99      0.98       500\n",
      "          7       0.98      0.97      0.97       500\n",
      "          8       0.98      0.98      0.98       500\n",
      "          9       0.97      0.96      0.96       500\n",
      "         10       0.98      0.99      0.99       500\n",
      "\n",
      "avg / total       0.98      0.98      0.98      5000\n",
      "\n"
     ]
    }
   ],
   "source": [
    "print(classification_report(y,p))"
   ]
  },
  {
   "cell_type": "code",
   "execution_count": null,
   "metadata": {},
   "outputs": [
    {
     "name": "stdout",
     "output_type": "stream",
     "text": [
      "Displaying Example Image\n",
      "1\n",
      "1\n"
     ]
    },
    {
     "data": {
      "image/png": "[encoded data removed]",
      "text/plain": [
       "<matplotlib.figure.Figure at 0x7fdbda2234a8>"
      ]
     },
     "metadata": {},
     "output_type": "display_data"
    },
    {
     "name": "stdout",
     "output_type": "stream",
     "text": [
      "(1, 25)\n",
      "(1, 26)\n",
      "Neural Network Prediction: 9 (digit 9)\n"
     ]
    }
   ],
   "source": [
    "#Permulate the data and randomly display one by one \n",
    "rand_indices = np.random.permutation(m)\n",
    "for i in rand_indices:\n",
    "    print(\"Displaying Example Image\")\n",
    "    displayData(X[[i],:]) #X[[i],:] return the i-th row vector\n",
    "    p = np.squeeze(predict(theta1,theta2,X[[i],:]))\n",
    "    print(\"Neural Network Prediction: \" + str(p) \\\n",
    "          + \" (digit \" + str(p % 10) + \")\")\n",
    "    # Pause with quit option\n",
    "    s = input(\"Paused - press enter to continue, q to exit: \")\n",
    "    if s == 'q':\n",
    "        break\n",
    "    else:\n",
    "        # clear of the output of current cell\n",
    "        clear_output(wait=True)"
   ]
  }
 ],
 "metadata": {
  "kernelspec": {
   "display_name": "Python 3",
   "language": "python",
   "name": "python3"
  },
  "language_info": {
   "codemirror_mode": {
    "name": "ipython",
    "version": 3
   },
   "file_extension": ".py",
   "mimetype": "text/x-python",
   "name": "python",
   "nbconvert_exporter": "python",
   "pygments_lexer": "ipython3",
   "version": "3.6.1"
  }
 },
 "nbformat": 4,
 "nbformat_minor": 2
}
